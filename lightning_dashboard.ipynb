{
 "cells": [
  {
   "cell_type": "markdown",
   "id": "TYJZVNl6qiET",
   "metadata": {
    "id": "TYJZVNl6qiET"
   },
   "source": [
    "Install dependecies using either conda or pip:\n",
    "\n",
    "1. rasterio using:\n",
    "\n",
    "    a. install rasterio\n",
    "        conda install -c conda-forge rasterio\n",
    "\n",
    "    b. Then install linux dependencies (in Linux only)\n",
    "        sudo add-apt-repository ppa:ubuntugis/ppa\n",
    "        sudo apt-get update\n",
    "        sudo apt-get install python-numpy gdal-bin libgdal-dev\n",
    "\n",
    "2. Install matplotlib\n",
    "\n",
    "    conda install -c conda-forge matplotlib\n",
    "\n",
    "3. Install plotly\n",
    "\n",
    "    conda install -c conda-forge plotly"
   ]
  },
  {
   "cell_type": "code",
   "execution_count": 1,
   "id": "QdyTGnHyqXZ7",
   "metadata": {
    "colab": {
     "base_uri": "https://localhost:8080/"
    },
    "id": "QdyTGnHyqXZ7",
    "outputId": "a4b81340-d54e-4422-8b4d-7a64f62d8d0f"
   },
   "outputs": [
    {
     "name": "stdout",
     "output_type": "stream",
     "text": [
      "Requirement already satisfied: rasterio in /home/sanzog03/miniconda3/envs/data_science/lib/python3.10/site-packages (1.2.10)\n",
      "Requirement already satisfied: certifi in /home/sanzog03/miniconda3/envs/data_science/lib/python3.10/site-packages (from rasterio) (2022.9.24)\n",
      "Requirement already satisfied: cligj>=0.5 in /home/sanzog03/miniconda3/envs/data_science/lib/python3.10/site-packages (from rasterio) (0.7.2)\n",
      "Requirement already satisfied: snuggs>=1.4.1 in /home/sanzog03/miniconda3/envs/data_science/lib/python3.10/site-packages (from rasterio) (1.4.7)\n",
      "Requirement already satisfied: click-plugins in /home/sanzog03/miniconda3/envs/data_science/lib/python3.10/site-packages (from rasterio) (1.1.1)\n",
      "Requirement already satisfied: attrs in /home/sanzog03/miniconda3/envs/data_science/lib/python3.10/site-packages (from rasterio) (21.4.0)\n",
      "Requirement already satisfied: numpy in /home/sanzog03/miniconda3/envs/data_science/lib/python3.10/site-packages (from rasterio) (1.21.5)\n",
      "Requirement already satisfied: click>=4.0 in /home/sanzog03/miniconda3/envs/data_science/lib/python3.10/site-packages (from rasterio) (8.0.4)\n",
      "Requirement already satisfied: setuptools in /home/sanzog03/miniconda3/envs/data_science/lib/python3.10/site-packages (from rasterio) (61.2.0)\n",
      "Requirement already satisfied: affine in /home/sanzog03/miniconda3/envs/data_science/lib/python3.10/site-packages (from rasterio) (2.3.0)\n",
      "Requirement already satisfied: pyparsing>=2.1.6 in /home/sanzog03/miniconda3/envs/data_science/lib/python3.10/site-packages (from snuggs>=1.4.1->rasterio) (3.0.4)\n",
      "Requirement already satisfied: matplotlib in /home/sanzog03/miniconda3/envs/data_science/lib/python3.10/site-packages (3.5.1)\n",
      "Requirement already satisfied: numpy>=1.17 in /home/sanzog03/miniconda3/envs/data_science/lib/python3.10/site-packages (from matplotlib) (1.21.5)\n",
      "Requirement already satisfied: pillow>=6.2.0 in /home/sanzog03/miniconda3/envs/data_science/lib/python3.10/site-packages (from matplotlib) (9.0.1)\n",
      "Requirement already satisfied: packaging>=20.0 in /home/sanzog03/miniconda3/envs/data_science/lib/python3.10/site-packages (from matplotlib) (21.3)\n",
      "Requirement already satisfied: python-dateutil>=2.7 in /home/sanzog03/miniconda3/envs/data_science/lib/python3.10/site-packages (from matplotlib) (2.8.2)\n",
      "Requirement already satisfied: cycler>=0.10 in /home/sanzog03/miniconda3/envs/data_science/lib/python3.10/site-packages (from matplotlib) (0.11.0)\n",
      "Requirement already satisfied: kiwisolver>=1.0.1 in /home/sanzog03/miniconda3/envs/data_science/lib/python3.10/site-packages (from matplotlib) (1.3.1)\n",
      "Requirement already satisfied: fonttools>=4.22.0 in /home/sanzog03/miniconda3/envs/data_science/lib/python3.10/site-packages (from matplotlib) (4.25.0)\n",
      "Requirement already satisfied: pyparsing>=2.2.1 in /home/sanzog03/miniconda3/envs/data_science/lib/python3.10/site-packages (from matplotlib) (3.0.4)\n",
      "Requirement already satisfied: six>=1.5 in /home/sanzog03/miniconda3/envs/data_science/lib/python3.10/site-packages (from python-dateutil>=2.7->matplotlib) (1.16.0)\n",
      "Requirement already satisfied: plotly in /home/sanzog03/miniconda3/envs/data_science/lib/python3.10/site-packages (5.10.0)\n",
      "Requirement already satisfied: tenacity>=6.2.0 in /home/sanzog03/miniconda3/envs/data_science/lib/python3.10/site-packages (from plotly) (8.1.0)\n"
     ]
    }
   ],
   "source": [
    "!pip install rasterio\n",
    "!pip install matplotlib\n",
    "!pip install plotly"
   ]
  },
  {
   "cell_type": "code",
   "execution_count": 2,
   "id": "0ca10ae7-b446-453d-93c1-87b6c9a4aaf4",
   "metadata": {
    "id": "0ca10ae7-b446-453d-93c1-87b6c9a4aaf4"
   },
   "outputs": [],
   "source": [
    "%load_ext autoreload\n",
    "%autoreload 2"
   ]
  },
  {
   "cell_type": "markdown",
   "id": "f788f95b-3946-4f8f-8d15-49bfac31c628",
   "metadata": {
    "id": "f788f95b-3946-4f8f-8d15-49bfac31c628"
   },
   "source": [
    "# USING RAW GEOTIFFs"
   ]
  },
  {
   "cell_type": "code",
   "execution_count": 3,
   "id": "7d037e89-718c-4dfc-ad9c-5c7073252397",
   "metadata": {},
   "outputs": [],
   "source": [
    "import rasterio\n",
    "from rasterio.plot import show\n",
    "from matplotlib import pyplot"
   ]
  },
  {
   "cell_type": "code",
   "execution_count": 4,
   "id": "1c0cad77-3a64-43c1-b906-4729dc259a5c",
   "metadata": {},
   "outputs": [
    {
     "name": "stdin",
     "output_type": "stream",
     "text": [
      "Enter one of the following visualization type: \n",
      "1.full \n",
      "2.seasonal \n",
      "3.monthly \n",
      "4.diurnal \n",
      "5.daily\n",
      " ==> seasonal\n"
     ]
    }
   ],
   "source": [
    "# ask for type input\n",
    "# according to that, ask for visualization input\n",
    "viz_type_global = input(\"Enter one of the following visualization type: \\n1.full \\n2.seasonal \\n3.monthly \\n4.diurnal \\n5.daily\\n ==>\")"
   ]
  },
  {
   "cell_type": "code",
   "execution_count": 5,
   "id": "734460f2-1f25-480e-869e-3acda27210f3",
   "metadata": {},
   "outputs": [
    {
     "name": "stdin",
     "output_type": "stream",
     "text": [
      "Enter the Season (Hint: \n",
      "1. spring \n",
      "2. summer \n",
      "3. autumn \n",
      "4. winter )\n",
      "==> winter\n"
     ]
    }
   ],
   "source": [
    "def handle_input_full():\n",
    "    # do not need an input\n",
    "    return False\n",
    "    \n",
    "def handle_input_seasonal():\n",
    "    u_input = input(\"Enter the Season (Hint: \\n1. spring \\n2. summer \\n3. autumn \\n4. winter )\\n==>\")\n",
    "    return u_input\n",
    "\n",
    "def handle_input_monthly():\n",
    "    u_input = input(\"Enter the Month (Hint: 01 - 12)\\n==>\")\n",
    "    return u_input\n",
    "\n",
    "def handle_input_diurnal():\n",
    "    u_input = input(\"Enter the Durinals (Hint: 00 - 23)\\n==>\")\n",
    "    return u_input\n",
    "\n",
    "def handle_input_daily():\n",
    "    u_input = input(\"Enter the a date yyyy-mm-dd format (Hint: 2013-01-21)\\n==>\")\n",
    "    return u_input\n",
    "\n",
    "input_switches = {\n",
    "    \"full\" : handle_input_full,\n",
    "    \"seasonal\" : handle_input_seasonal,\n",
    "    \"monthly\" : handle_input_monthly,\n",
    "    \"diurnal\" : handle_input_diurnal,\n",
    "    \"daily\" : handle_input_daily\n",
    "}\n",
    "\n",
    "type_data_ip_global = input_switches[viz_type_global]()"
   ]
  },
  {
   "cell_type": "code",
   "execution_count": 6,
   "id": "9826fde9-8de7-4661-b16e-4a8a7db68113",
   "metadata": {},
   "outputs": [
    {
     "name": "stdout",
     "output_type": "stream",
     "text": [
      "seasonal\n",
      "winter\n"
     ]
    }
   ],
   "source": [
    "print(viz_type_global)\n",
    "print(type_data_ip_global)"
   ]
  },
  {
   "cell_type": "code",
   "execution_count": 17,
   "id": "bbf17638-a554-4996-aa22-21a1159f9729",
   "metadata": {},
   "outputs": [
    {
     "name": "stdout",
     "output_type": "stream",
     "text": [
      "4\n",
      "https://ghrc-cog.s3.us-west-2.amazonaws.com/TRMM-LIS/VHRSC_LIS_FRD_cogs/VHRSC_LIS_FRD_Season_4.0_co.tif\n"
     ]
    }
   ],
   "source": [
    "def visuzalize_GEOTIFF(layer_url):\n",
    "    dataset = rasterio.open(layer_url)\n",
    "    pyplot.figure(figsize=(50, 25))\n",
    "    # pyplot.imshow(dataset.read(1), cmap='gray')\n",
    "    # pyplot.show(dataset)\n",
    "    show(dataset)\n",
    "    # show(dataset.read(), transform=dataset.transform)\n",
    "    pass\n",
    "\n",
    "def formulate_url_geotiff(type_c, date_c):\n",
    "    baseurl = \"https://ghrc-cog.s3.us-west-2.amazonaws.com/TRMM-LIS\"\n",
    "\n",
    "    type_codes = {\n",
    "        \"full\": \"VHRFC\",\n",
    "        \"seasonal\": \"VHRSC\",\n",
    "        \"monthly\" : \"VHRMC\",\n",
    "        \"diurnal\" : \"VHRDC\",\n",
    "        \"daily\" : \"VHRAC\"\n",
    "    }\n",
    "    \n",
    "    type_data_types = {\n",
    "        \"full\" : \"Full\",\n",
    "        \"seasonal\" : \"Season\",\n",
    "        \"monthly\" : \"Month\",\n",
    "        \"diurnal\" : \"Time\",\n",
    "        \"daily\" : \"Time\"\n",
    "    }\n",
    "\n",
    "    # The URL to fetch geotif image according to the input types\n",
    "    return f'{baseurl}/{type_codes[type_c]}_LIS_FRD_cogs/{type_codes[type_c]}_LIS_FRD_{type_data_types[type_c]}_{date_c}.0_co.tif'\n",
    "    \n",
    "# what handlers do is:\n",
    "    # looks for the global date\n",
    "    # manage the date\n",
    "    # Formulate the url\n",
    "    # use url for visuzalization\n",
    "\n",
    "def handle_full_geotiff():\n",
    "    viz_date = \"201301\"\n",
    "    viz_type = \"full\"\n",
    "    # only single file, so no need to formulate url\n",
    "    viz_url = \"https://ghrc-cog.s3.us-west-2.amazonaws.com/TRMM-LIS/VHRFC_LIS_FRD_co.tif\"\n",
    "    visuzalize_GEOTIFF(viz_url)\n",
    "    print(\"Geotiff url: \" + viz_url)\n",
    "\n",
    "def handle_seasonal_geotiff():\n",
    "    u_input = type_data_ip_global\n",
    "    season_date_map = { \n",
    "        \"spring\": \"1\",\n",
    "        \"summer\": \"2\",\n",
    "        \"autumn\": \"3\",\n",
    "        \"winter\": \"4\"\n",
    "    }\n",
    "    viz_date = season_date_map[u_input]\n",
    "    viz_type = \"seasonal\"\n",
    "    viz_url = formulate_url_geotiff(viz_type, viz_date)\n",
    "    visuzalize_GEOTIFF(viz_url)\n",
    "    print(\"Geotiff url: \" + viz_url)\n",
    "\n",
    "def handle_monthly_geotiff():\n",
    "    u_input = input(\"Enter the Month (Hint: 01 - 12)\\n==>\")\n",
    "    # todo: check input validation\n",
    "    viz_date = f\"2013{u_input}\"\n",
    "    viz_type = \"monthly\"\n",
    "    viz_url = formulate_url_geotiff(viz_type, viz_date)\n",
    "    visuzalize_GEOTIFF(viz_url)\n",
    "    print(\"COG url: \" + viz_url)    \n",
    "\n",
    "\n",
    "def handle_diurnal_geotiff():\n",
    "    u_input = input(\"Enter the Durinals (Hint: 00 - 23)\\n==>\")\n",
    "    # todo: check input validation\n",
    "    # if even, 01st of month\n",
    "    # if odd, 15th of month\n",
    "    season_date_map = {\n",
    "        \"00\": \"2013_01_01\" , \"01\": \"2013_01_15\" , \"02\": \"2013_02_01\" , \"03\": \"2013_02_15\" , \"04\": \"2013_03_01\" , \"05\": \"2013_03_15\" ,\n",
    "        \"06\": \"2013_04_01\" , \"07\": \"2013_04_15\" , \"08\": \"2013_05_01\" , \"09\": \"2013_05_15\" , \"10\": \"2013_06_01\" , \"11\": \"2013_06_15\" ,\n",
    "        \"12\": \"2013_07_01\" , \"13\": \"2013_07_15\" , \"14\": \"2013_08_01\" , \"15\": \"2013_08_15\" , \"16\": \"2013_09_01\" , \"17\": \"2013_09_15\" ,\n",
    "        \"18\": \"2013_10_01\" , \"19\": \"2013_10_15\" , \"20\": \"2013_11_01\" , \"21\": \"2013_11_15\" , \"22\": \"2013_12_01\" , \"23\": \"2013_12_15\"\n",
    "    }\n",
    "    viz_date = season_date_map[u_input]\n",
    "    viz_type = \"diurnal\"\n",
    "    viz_url = formulate_url_geotiff(viz_type, viz_date)\n",
    "    visuzalize_GEOTIFF(viz_url)\n",
    "    print(\"COG url: \" + viz_url)\n",
    "\n",
    "def handle_daily_geotiff():\n",
    "    u_input = input(\"Enter the a date yyyy-mm-dd format (Hint: 2013-01-21)\\n==>\")\n",
    "    # TODO: validation check\n",
    "    viz_date = u_input.replace('-', '_')\n",
    "    viz_type = \"daily\"\n",
    "    viz_url = formulate_url_geotiff(viz_type, viz_date)\n",
    "    visuzalize_GEOTIFF(viz_url)\n",
    "    print(\"COG url: \" + viz_url)\n",
    "\n",
    "viz_handle_switches = {\n",
    "    \"full\" : handle_full_geotiff,\n",
    "    \"seasonal\" : handle_seasonal_geotiff,\n",
    "    \"monthly\" : handle_monthly_geotiff,\n",
    "    \"diurnal\" : handle_diurnal_geotiff,\n",
    "    \"daily\" : handle_daily_geotiff\n",
    "}\n",
    "\n",
    "url_new = viz_handle_switches[viz_type_global]()"
   ]
  },
  {
   "cell_type": "code",
   "execution_count": null,
   "id": "fb5dc616-589b-4db6-a045-192fe5466b76",
   "metadata": {},
   "outputs": [],
   "source": []
  },
  {
   "cell_type": "code",
   "execution_count": null,
   "id": "074f2078-48f2-4c32-82bc-0386f91c56d4",
   "metadata": {
    "id": "074f2078-48f2-4c32-82bc-0386f91c56d4"
   },
   "outputs": [],
   "source": [
    "import rasterio\n",
    "from rasterio.plot import show\n",
    "from matplotlib import pyplot"
   ]
  },
  {
   "cell_type": "code",
   "execution_count": null,
   "id": "1d06f0d0-c972-49ed-8774-ee1c85dc7ca7",
   "metadata": {
    "id": "1d06f0d0-c972-49ed-8774-ee1c85dc7ca7"
   },
   "outputs": [],
   "source": [
    "# base configs and dictonary defination\n",
    "baseurl = \"https://ghrc-cog.s3.us-west-2.amazonaws.com/TRMM-LIS\"\n",
    "\n",
    "types_CGTIF = {\n",
    "     \"annual\": { \"name\": \"VHRAC\", \"dt\": \"Time\"},\n",
    "     \"daily\": { \"name\": \"VHRDC\", \"dt\": \"Time\"},\n",
    "     \"monthly\": { \"name\": \"VHRMC\", \"dt\": \"Month\"},\n",
    "     \"season\": { \"name\": \"VHRSC\", \"dt\": \"Season\"}\n",
    "     #add for full\n",
    "}"
   ]
  },
  {
   "cell_type": "code",
   "execution_count": null,
   "id": "96e5a834-fee2-4bd2-9a6e-55c31fa34dae",
   "metadata": {
    "colab": {
     "base_uri": "https://localhost:8080/"
    },
    "id": "96e5a834-fee2-4bd2-9a6e-55c31fa34dae",
    "outputId": "154dc530-ccca-4b74-a526-e9ae3a5908b6"
   },
   "outputs": [],
   "source": [
    "type_ip = input(\"Enter one of the following type: \\n1.annual \\n2.daily \\n3.monthly \\n2.season \\n ==>\")"
   ]
  },
  {
   "cell_type": "code",
   "execution_count": null,
   "id": "551328e0",
   "metadata": {
    "id": "551328e0"
   },
   "outputs": [],
   "source": [
    "# Take inputs and based off it, generate URL\n",
    "# type_ip = \"monthly\" # change it; take input\n",
    "type = types_CGTIF[type_ip]\n",
    "#data = \"input data according to type_ip name\" #maybe put a validation\n"
   ]
  },
  {
   "cell_type": "code",
   "execution_count": null,
   "id": "5042b114-5da1-436d-bca2-2bb418596d3f",
   "metadata": {
    "colab": {
     "base_uri": "https://localhost:8080/"
    },
    "id": "5042b114-5da1-436d-bca2-2bb418596d3f",
    "outputId": "a9b81645-daa8-4619-d458-f74cb21f1ad5"
   },
   "outputs": [],
   "source": [
    "if(type_ip == \"annual\"):\n",
    "    data = input(\"Enter day number (Hint: 1 to 365)\")\n",
    "elif(type_ip == \"daily\"):\n",
    "    data = input(\"Enter hour (Hint: 24 hour format i.e. 0 to 23)\")\n",
    "elif(type_ip == \"monthly\"):\n",
    "    data = input(\"Enter month number (Hint: 1 to 12)\")\n",
    "elif(type_ip == \"season\"):\n",
    "    data = input(\"Enter season number (Hint: 1 to 4)\")\n",
    "else:\n",
    "    print(\"wrong type input.\")"
   ]
  },
  {
   "cell_type": "code",
   "execution_count": null,
   "id": "fee9d2d3-ab82-49f6-be39-b62b72e10bef",
   "metadata": {
    "colab": {
     "base_uri": "https://localhost:8080/"
    },
    "id": "fee9d2d3-ab82-49f6-be39-b62b72e10bef",
    "outputId": "ac4bfa78-a8f3-4cc2-b0ee-2b572d497846"
   },
   "outputs": [],
   "source": [
    "# The URL to fetch geotif image according to the input types\n",
    "URL = f'{baseurl}/{type[\"name\"]}_LIS_FRD_cogs/{type[\"name\"]}_LIS_FRD_{type[\"dt\"]}_{data}.0_co.tif'\n",
    "print(URL)"
   ]
  },
  {
   "cell_type": "code",
   "execution_count": null,
   "id": "7e604c74",
   "metadata": {
    "colab": {
     "base_uri": "https://localhost:8080/",
     "height": 515
    },
    "id": "7e604c74",
    "outputId": "efcb9910-7c99-4a0f-e95d-f87603683ad0"
   },
   "outputs": [],
   "source": [
    "\n",
    "dataset = rasterio.open(URL)\n",
    "pyplot.figure(figsize=(50, 25))\n",
    "# pyplot.imshow(dataset.read(1), cmap='gray')\n",
    "# pyplot.show(dataset)\n",
    "show(dataset)\n",
    "# show(dataset.read(), transform=dataset.transform)"
   ]
  },
  {
   "cell_type": "markdown",
   "id": "5d9b0b6f-662b-4a59-932b-76c1ac9a8c48",
   "metadata": {
    "id": "5d9b0b6f-662b-4a59-932b-76c1ac9a8c48"
   },
   "source": [
    "# Using COG "
   ]
  },
  {
   "cell_type": "code",
   "execution_count": null,
   "id": "f3fe6b1d-2773-4778-b5d3-2d3f403a415a",
   "metadata": {
    "id": "f3fe6b1d-2773-4778-b5d3-2d3f403a415a"
   },
   "outputs": [],
   "source": [
    "import plotly.io as pio\n",
    "import plotly.express as px\n",
    "import pandas as pd\n",
    "\n",
    "# pio.renderers.default = 'colab'\n",
    "pio.renderers.default = 'jupyterlab'"
   ]
  },
  {
   "cell_type": "code",
   "execution_count": null,
   "id": "12ffe378-c3ad-451e-9973-43e328847daa",
   "metadata": {
    "colab": {
     "base_uri": "https://localhost:8080/"
    },
    "id": "12ffe378-c3ad-451e-9973-43e328847daa",
    "outputId": "12cd3166-c1e4-4450-9f99-925241a28bac"
   },
   "outputs": [],
   "source": [
    "viz_type = input(\"Enter one of the following visualization type: \\n1.full \\n2.seasonal \\n3.monthly \\n4.diurnal \\n5.daily\\n ==>\")"
   ]
  },
  {
   "cell_type": "code",
   "execution_count": null,
   "id": "ddcafbc3-d7e5-4972-9682-d227b03f15c8",
   "metadata": {
    "colab": {
     "base_uri": "https://localhost:8080/",
     "height": 559
    },
    "id": "ddcafbc3-d7e5-4972-9682-d227b03f15c8",
    "outputId": "759da6f1-b7f7-4b63-cbb8-1fd1e154a908"
   },
   "outputs": [],
   "source": [
    "def visuzalize_COG(layer_url):\n",
    "    # seed value, for mapbox to load in colab\n",
    "    df = pd.DataFrame([[1001, 5.3],[1001, 5.3]])\n",
    "    df.columns = [\"flips\", \"unemp\"]\n",
    "    fig = px.choropleth_mapbox(\n",
    "                                df, \n",
    "                                color='unemp',\n",
    "                                color_continuous_scale=\"Viridis\",\n",
    "                                range_color=(0, 12),\n",
    "                                mapbox_style=\"carto-positron\",\n",
    "                                zoom=4, center = {\"lat\": 37.0902, \"lon\": -95.7129},\n",
    "                                opacity=0.5,\n",
    "                              )\n",
    "\n",
    "    fig.update_layout(\n",
    "        mapbox_layers=[\n",
    "            {\n",
    "                \"sourcetype\": \"raster\",\n",
    "                \"source\": [layer_url]\n",
    "            }\n",
    "          ])\n",
    "    fig.update_layout(margin={\"r\":0,\"t\":0,\"l\":0,\"b\":0})\n",
    "    # print(fig.layout.mapbox.layers)\n",
    "    fig.update_layout(mapbox_style=\"stamen-terrain\")\n",
    "    fig.layout.mapbox.zoom = 1\n",
    "    fig.show()\n",
    "\n",
    "#apply switch cases:\n",
    "\n",
    "    \n",
    "def formulate_url(type_c, date_c):\n",
    "    cog_base_url = \"https://wug8w3fg42.execute-api.us-west-2.amazonaws.com/development/singleband\"\n",
    "    \n",
    "    type_date_url_end_mapping = {\n",
    "        \"full\": \"LIS/{z}/{x}/{y}.png?colormap=terrain&stretch_range=[0.325,23.426]\",\n",
    "        \"seasonal\": \"LIS/{z}/{x}/{y}.png?colormap=terrain&stretch_range=[0.00010455249866936356,0.06766455620527267]\",\n",
    "        \"monthly\" : \"LIS/{z}/{x}/{y}.png?colormap=terrain&stretch_range=[0.00010455249866936356,0.06766455620527267]\",\n",
    "        \"diurnal\" : \"LIS/{z}/{x}/{y}.png?colormap=terrain&stretch_range=[0,0.002]\",\n",
    "        \"daily\" : \"LIS/{z}/{x}/{y}.png?colormap=terrain&stretch_range=[0.00010455249866936356,0.06766455620527267]\"\n",
    "    }\n",
    "\n",
    "    type_codes = {\n",
    "        \"full\": \"VHRFC\",\n",
    "        \"seasonal\": \"VHRSC\",\n",
    "        \"monthly\" : \"VHRMC\",\n",
    "        \"diurnal\" : \"VHRDC\",\n",
    "        \"daily\" : \"VHRAC\"\n",
    "    }\n",
    "    # TODO: try catch error handling.\n",
    "    cog_url_build = f\"{type_codes[type_c]}/{date_c}\"\n",
    "\n",
    "    return f\"{cog_base_url}/{cog_url_build}/{type_date_url_end_mapping[type_c]}\"\n",
    "\n",
    "# what handlers do is:\n",
    "    # It is a pure function that:\n",
    "    # ask for the date\n",
    "    # manage the date\n",
    "    # Formulate the url\n",
    "    # use url for visuzalization\n",
    "\n",
    "def handle_full():\n",
    "    viz_date = \"201301\"\n",
    "    viz_type = \"full\"\n",
    "    viz_url = formulate_url(viz_type, viz_date)\n",
    "    visuzalize_COG(viz_url)\n",
    "    print(\"COG url: \" + viz_url)    \n",
    "\n",
    "def handle_seasonal():\n",
    "    u_input = input(\"Enter the Season (Hint: \\n1. spring \\n2. summer \\n3. autumn \\n4. winter )\\n==>\")\n",
    "    season_date_map = { \n",
    "        \"spring\": \"2013_03_01\",\n",
    "        \"summer\": \"2013_07_01\",\n",
    "        \"autumn\": \"2013_10_01\",\n",
    "        \"winter\": \"2013_12_01\"\n",
    "    }\n",
    "    viz_date = season_date_map[u_input]\n",
    "    viz_type = \"seasonal\"\n",
    "    viz_url = formulate_url(viz_type, viz_date)\n",
    "    visuzalize_COG(viz_url)\n",
    "    print(\"COG url: \" + viz_url)\n",
    "\n",
    "def handle_monthly():\n",
    "    u_input = input(\"Enter the Month (Hint: 01 - 12)\\n==>\")\n",
    "    # todo: check input validation\n",
    "    viz_date = f\"2013{u_input}\"\n",
    "    viz_type = \"monthly\"\n",
    "    viz_url = formulate_url(viz_type, viz_date)\n",
    "    visuzalize_COG(viz_url)\n",
    "    print(\"COG url: \" + viz_url)    \n",
    "\n",
    "\n",
    "def handle_diurnal():\n",
    "    u_input = input(\"Enter the Durinals (Hint: 00 - 23)\\n==>\")\n",
    "    # todo: check input validation\n",
    "    # if even, 01st of month\n",
    "    # if odd, 15th of month\n",
    "    season_date_map = {\n",
    "        \"00\": \"2013_01_01\" , \"01\": \"2013_01_15\" , \"02\": \"2013_02_01\" , \"03\": \"2013_02_15\" , \"04\": \"2013_03_01\" , \"05\": \"2013_03_15\" ,\n",
    "        \"06\": \"2013_04_01\" , \"07\": \"2013_04_15\" , \"08\": \"2013_05_01\" , \"09\": \"2013_05_15\" , \"10\": \"2013_06_01\" , \"11\": \"2013_06_15\" ,\n",
    "        \"12\": \"2013_07_01\" , \"13\": \"2013_07_15\" , \"14\": \"2013_08_01\" , \"15\": \"2013_08_15\" , \"16\": \"2013_09_01\" , \"17\": \"2013_09_15\" ,\n",
    "        \"18\": \"2013_10_01\" , \"19\": \"2013_10_15\" , \"20\": \"2013_11_01\" , \"21\": \"2013_11_15\" , \"22\": \"2013_12_01\" , \"23\": \"2013_12_15\"\n",
    "    }\n",
    "    viz_date = season_date_map[u_input]\n",
    "    viz_type = \"diurnal\"\n",
    "    viz_url = formulate_url(viz_type, viz_date)\n",
    "    visuzalize_COG(viz_url)\n",
    "    print(\"COG url: \" + viz_url)\n",
    "\n",
    "def handle_daily():\n",
    "    u_input = input(\"Enter the a date yyyy-mm-dd format (Hint: 2013-01-21)\\n==>\")\n",
    "    # TODO: validation check\n",
    "    viz_date = u_input.replace('-', '_')\n",
    "    viz_type = \"daily\"\n",
    "    viz_url = formulate_url(viz_type, viz_date)\n",
    "    visuzalize_COG(viz_url)\n",
    "    print(\"COG url: \" + viz_url)\n",
    "\n",
    "switches = {\n",
    "    \"full\" : handle_full,\n",
    "    \"seasonal\" : handle_seasonal,\n",
    "    \"monthly\" : handle_monthly,\n",
    "    \"diurnal\" : handle_diurnal,\n",
    "    \"daily\" : handle_daily\n",
    "}\n",
    "\n",
    "url_new = switches[viz_type]()"
   ]
  },
  {
   "cell_type": "markdown",
   "id": "086be3ab-3346-4247-ad8f-54b792c319d9",
   "metadata": {
    "id": "sH7YaR3IDEwN"
   },
   "source": [
    "If the visualization is not showing, use appropriate `pio.renderers.default`, according to the platform that the notebook is running. (Hint. for `Jupyterlab`, `pio.renderers.default = 'jupyterlab'`, for `Google colab`, `pio.renderers.default = 'colab'`)"
   ]
  },
  {
   "cell_type": "code",
   "execution_count": null,
   "id": "5f35e9a1-ee55-42b0-a4e7-90f2c1309aaa",
   "metadata": {},
   "outputs": [],
   "source": []
  },
  {
   "cell_type": "code",
   "execution_count": null,
   "id": "632ec9df-d4b4-4e77-80d6-3f5cecf586dd",
   "metadata": {},
   "outputs": [],
   "source": []
  }
 ],
 "metadata": {
  "colab": {
   "collapsed_sections": [],
   "provenance": []
  },
  "kernelspec": {
   "display_name": "Python (data_science)",
   "language": "python",
   "name": "data_science_env"
  },
  "language_info": {
   "codemirror_mode": {
    "name": "ipython",
    "version": 3
   },
   "file_extension": ".py",
   "mimetype": "text/x-python",
   "name": "python",
   "nbconvert_exporter": "python",
   "pygments_lexer": "ipython3",
   "version": "3.10.4"
  }
 },
 "nbformat": 4,
 "nbformat_minor": 5
}
