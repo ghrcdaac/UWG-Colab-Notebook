{
  "cells": [
    {
      "cell_type": "markdown",
      "metadata": {
        "id": "zrFuXeCrI6bx"
      },
      "source": [
        "# Install Python Packages\n"
      ],
      "id": "zrFuXeCrI6bx"
    },
    {
      "cell_type": "code",
      "execution_count": 1,
      "metadata": {
        "colab": {
          "base_uri": "https://localhost:8080/"
        },
        "id": "3bacffde",
        "outputId": "0fa18ae1-9c38-4fcd-8464-dca4f8cc20b9"
      },
      "outputs": [
        {
          "output_type": "stream",
          "name": "stdout",
          "text": [
            "Looking in indexes: https://pypi.org/simple, https://us-python.pkg.dev/colab-wheels/public/simple/\n",
            "Requirement already satisfied: importlib-metadata==4.13. in /usr/local/lib/python3.7/dist-packages (4.13.0)\n",
            "Requirement already satisfied: 0 in /usr/local/lib/python3.7/dist-packages (0.0.0)\n",
            "Requirement already satisfied: typing-extensions>=3.6.4 in /usr/local/lib/python3.7/dist-packages (from importlib-metadata==4.13.) (4.1.1)\n",
            "Requirement already satisfied: zipp>=0.5 in /usr/local/lib/python3.7/dist-packages (from importlib-metadata==4.13.) (3.9.0)\n"
          ]
        }
      ],
      "source": [
        "!pip install importlib-metadata==4.13. 0"
      ],
      "id": "3bacffde"
    },
    {
      "cell_type": "markdown",
      "metadata": {
        "id": "tj_nRE_WEHn-"
      },
      "source": [
        "# Downloading the TRMM LIS Seasonal and Monthly Data from S3\n",
        "\n"
      ],
      "id": "tj_nRE_WEHn-"
    },
    {
      "cell_type": "code",
      "execution_count": 2,
      "metadata": {
        "colab": {
          "base_uri": "https://localhost:8080/"
        },
        "id": "b16aa549",
        "outputId": "3bdfc6b4-c537-49f3-c2b6-719b9ffac096"
      },
      "outputs": [
        {
          "output_type": "execute_result",
          "data": {
            "text/plain": [
              "('VHRMC.nc', <http.client.HTTPMessage at 0x7f541902e9d0>)"
            ]
          },
          "metadata": {},
          "execution_count": 2
        }
      ],
      "source": [
        "#https://ghrc-fcx-viz-output.s3.us-west-2.amazonaws.com/VHRSC.nc\n",
        "\n",
        "import urllib.request \n",
        "urllib.request.urlretrieve(\"https://uwg.s3.amazonaws.com/VHRSC.nc\", \"VHRSC.nc\")\n",
        "urllib.request.urlretrieve(\"https://uwg.s3.amazonaws.com/VHRMC.nc\", \"VHRMC.nc\")"
      ],
      "id": "b16aa549"
    },
    {
      "cell_type": "markdown",
      "metadata": {
        "id": "b3920sifJJ4J"
      },
      "source": [
        "# Importing Python Packages and Calculating Mean, Max in the Seasonal Dataset based on Seasons"
      ],
      "id": "b3920sifJJ4J"
    },
    {
      "cell_type": "code",
      "execution_count": 3,
      "metadata": {
        "id": "30b45351"
      },
      "outputs": [],
      "source": [
        "import xarray as xr\n",
        "import seaborn as sns\n",
        "import pandas as pd\n",
        "import numpy as np\n",
        "import plotly.graph_objects as go\n",
        "\n",
        "fh = xr.open_dataset('/content/VHRSC.nc')\n",
        "Mean = []\n",
        "Max = []\n",
        "data = []\n",
        "for i in range(0,4):\n",
        "    matrix = fh['VHRSC_LIS_FRD'][i].values\n",
        "    data.append(fh['VHRSC_LIS_FRD'][i].values)\n",
        "    Mean.append(matrix.mean())\n",
        "    Max.append(matrix.max())"
      ],
      "id": "30b45351"
    },
    {
      "cell_type": "markdown",
      "metadata": {
        "id": "FPSJxfDpqcm6"
      },
      "source": [
        "# Plots to show Mean vs Seasons and Max vs Seasons"
      ],
      "id": "FPSJxfDpqcm6"
    },
    {
      "cell_type": "code",
      "execution_count": 4,
      "metadata": {
        "colab": {
          "base_uri": "https://localhost:8080/",
          "height": 573
        },
        "id": "0f347273",
        "outputId": "55c3dbbc-2b48-47b4-e055-0d0bc3e6eb02"
      },
      "outputs": [
        {
          "output_type": "display_data",
          "data": {
            "text/plain": [
              "<Figure size 432x288 with 1 Axes>"
            ],
            "image/png": "[encoded data removed]"
          },
          "metadata": {
            "needs_background": "light"
          }
        },
        {
          "output_type": "display_data",
          "data": {
            "text/plain": [
              "<Figure size 432x288 with 1 Axes>"
            ],
            "image/png": "[encoded data removed]"
          },
          "metadata": {
            "needs_background": "light"
          }
        }
      ],
      "source": [
        "import numpy as np\n",
        "import matplotlib.pyplot as plt\n",
        "\n",
        "def addlabels(x,y):\n",
        "    for i in range(len(x)):\n",
        "        plt.text(i,y[i],y[i], ha='center', color='red')\n",
        "\n",
        "X = ['Winter','Spring','Summer','Autumn']\n",
        "\n",
        "X_axis = np.arange(len(X))\n",
        "\n",
        "plt.bar(X_axis, Max, 0.4, label = 'Max')\n",
        "\n",
        "plt.xticks(X_axis, X)\n",
        "addlabels(X, Max)\n",
        "plt.xlabel(\"Seasons\")\n",
        "plt.ylabel(\"Max\")\n",
        "plt.title(\"Max vs Seasons\")\n",
        "plt.show()\n",
        "\n",
        "\n",
        "plt.bar(X_axis, Mean, 0.4, label = 'Mean', color = 'green')\n",
        "addlabels(X, Mean)\n",
        "plt.xticks(X_axis, X)\n",
        "plt.xlabel(\"Seasons\")\n",
        "plt.ylabel(\"Mean\")\n",
        "plt.title(\"Mean vs Seasons\")\n",
        "plt.show()"
      ],
      "id": "0f347273"
    },
    {
      "cell_type": "markdown",
      "metadata": {
        "id": "Z8UeHN7pJcNa"
      },
      "source": [
        "#Lightning Dataset Monthly Analysis"
      ],
      "id": "Z8UeHN7pJcNa"
    },
    {
      "cell_type": "code",
      "execution_count": 5,
      "metadata": {
        "colab": {
          "base_uri": "https://localhost:8080/"
        },
        "id": "43b6f78e",
        "outputId": "4e843f27-e846-4353-b3da-c8b312850e94"
      },
      "outputs": [
        {
          "name": "stdout",
          "output_type": "stream",
          "text": [
            "Please hit Enter key after you type in your input\n",
            " Enter 1 for Winter, 2 for Spring, 3 for Summer, 4 for Autumn 2\n",
            " Enter Number of Bins 4\n"
          ]
        }
      ],
      "source": [
        "print('Please hit Enter key after you type in your input')\n",
        "season_name = int(input(' Enter 1 for Winter, 2 for Spring, 3 for Summer, 4 for Autumn '))\n",
        "num_div = int(input(' Enter Number of Bins '))\n",
        "diff = data[season_name].max()/num_div\n",
        "\n",
        "bins = [0]\n",
        "for i in range(1,num_div+1):\n",
        "    bins.append(i*diff)\n",
        "df = pd.DataFrame(data[0].flatten())\n",
        "df['bins'] = pd.cut(df[0], bins)\n",
        "value_df = df['bins'].value_counts()"
      ],
      "id": "43b6f78e"
    },
    {
      "cell_type": "markdown",
      "metadata": {
        "id": "T8Fy65s_JotC"
      },
      "source": [
        "#Plot to show Bins vs Count"
      ],
      "id": "T8Fy65s_JotC"
    },
    {
      "cell_type": "code",
      "execution_count": 6,
      "metadata": {
        "colab": {
          "base_uri": "https://localhost:8080/",
          "height": 392
        },
        "id": "8d415131",
        "outputId": "0c2abc2f-c545-49dd-e743-4d09cd777119"
      },
      "outputs": [
        {
          "output_type": "display_data",
          "data": {
            "text/plain": [
              "<Figure size 720x360 with 1 Axes>"
            ],
            "image/png": "[encoded data removed]"
          },
          "metadata": {
            "needs_background": "light"
          }
        }
      ],
      "source": [
        "fig, ax1 = plt.subplots(figsize=(10,5))\n",
        "graph = sns.countplot(ax=ax1,x='bins', data=df)\n",
        "graph.set_xticklabels(graph.get_xticklabels(),rotation=45)\n",
        "for p in graph.patches:\n",
        "    height = p.get_height()\n",
        "    graph.text(p.get_x()+p.get_width()/2., value_df.max() + value_df.min(),\n",
        "        height, ha=\"center\", color=\"red\", size=15)"
      ],
      "id": "8d415131"
    },
    {
      "cell_type": "markdown",
      "metadata": {
        "id": "M6vgEo9yJts6"
      },
      "source": [
        "#Monthly Flash Rate Data Density"
      ],
      "id": "M6vgEo9yJts6"
    },
    {
      "cell_type": "code",
      "execution_count": 7,
      "metadata": {
        "id": "b9dNNi4OYbF0"
      },
      "outputs": [],
      "source": [
        "ds = xr.open_dataset('/content/VHRMC.nc')\n",
        "df = ds.to_dataframe()\n",
        "new_df = df\n",
        "new_df = new_df.reset_index()\n",
        "df_dict = {}\n",
        "for i in range(1,13):\n",
        "  df_dict[i] = new_df[new_df['Month']==i]\n",
        "\n",
        "print('Please Enter: 1 for January, 2 for February, 3 for March, 4 for April, 5 for May, 6 for June, 7 for July, 8 for August, 9 for September, 10 for October, 11 for November, 12 for December')\n",
        "print('Please hit Enter key after you type in your input')\n",
        "month_val = int(input('Please enter the Month:'))\n",
        "month = df_dict[month_val]\n",
        "\n",
        "month = month.sort_values(by=['VHRMC_LIS_FRD'],ascending=False)\n",
        "\n",
        "values = month[month['VHRMC_LIS_FRD']>0.006]\n",
        "values = values.head(500000)\n",
        "\n",
        "month_dict = {1:\"January\", 2: \"February\", 3: \"March\", 4:\"April\", 5: \"May\", 6: \"June\", 7: \"July\", 8: \"August\", 9: \"September\", 10: \"October\", 11: \"November\", 12:\"December\"}\n",
        "\n",
        "fig = go.Figure(go.Densitymapbox(lat=values['Latitude'], lon=values['Longitude'], z=values['VHRMC_LIS_FRD'],\n",
        "                              radius=1),layout_title_text= 'Flash Rate Density Data for '+month_dict.get(month_val))\n",
        "fig.update_layout(mapbox_style=\"stamen-terrain\",  width=1100, height=600)\n",
        "# fig.update_layout(margin={\"r\":0,\"t\":0,\"l\":0,\"b\":0})\n",
        "fig.show()"
      ],
      "id": "b9dNNi4OYbF0"
    },
    {
      "cell_type": "markdown",
      "metadata": {
        "id": "UZQ8BLU7J3dD"
      },
      "source": [
        "#Animating Top 100 Hot Spots using Slider"
      ],
      "id": "UZQ8BLU7J3dD"
    },
    {
      "cell_type": "code",
      "execution_count": 8,
      "metadata": {
        "id": "_XALp-EwoH5X"
      },
      "outputs": [],
      "source": [
        "import plotly.express as px\n",
        "values = values.head(100)\n",
        "fig = px.density_mapbox(df, lat=values['Latitude'], \n",
        "                            lon=values['Longitude'], \n",
        "                            z=values['VHRMC_LIS_FRD'],\n",
        "                            radius=20,\n",
        "                            animation_frame=values['VHRMC_LIS_FRD']\n",
        "                                )\n",
        "fig.update_layout(mapbox_style=\"stamen-terrain\", mapbox_zoom=1.5,  width=1100, height=600)\n",
        "# fig.update_layout(margin={\"r\":0,\"t\":0,\"l\":0,\"b\":0})\n",
        "\n",
        "fig.layout.updatemenus[0].buttons[0].args[1][\"frame\"][\"duration\"] = 600\n",
        "fig.layout.updatemenus[0].buttons[0].args[1][\"transition\"][\"duration\"] = 600\n",
        "fig.layout.coloraxis.showscale = True   \n",
        "fig.layout.sliders[0].pad.t = 10\n",
        "fig.layout.updatemenus[0].pad.t= 10             \n",
        "\n",
        "fig.show()"
      ],
      "id": "_XALp-EwoH5X"
    }
  ],
  "metadata": {
    "colab": {
      "collapsed_sections": [],
      "provenance": []
    },
    "kernelspec": {
      "display_name": "Python 3",
      "language": "python",
      "name": "python3"
    },
    "language_info": {
      "codemirror_mode": {
        "name": "ipython",
        "version": 3
      },
      "file_extension": ".py",
      "mimetype": "text/x-python",
      "name": "python",
      "nbconvert_exporter": "python",
      "pygments_lexer": "ipython3",
      "version": "3.6.13"
    }
  },
  "nbformat": 4,
  "nbformat_minor": 5
}