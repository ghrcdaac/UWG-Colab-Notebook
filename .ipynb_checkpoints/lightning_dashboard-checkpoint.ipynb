{
 "cells": [
  {
   "cell_type": "markdown",
   "id": "880c9d47-8ad7-49e9-97ef-cf2fb6b9af77",
   "metadata": {},
   "source": [
    "# Installing Dependencies"
   ]
  },
  {
   "cell_type": "code",
   "execution_count": null,
   "id": "QdyTGnHyqXZ7",
   "metadata": {
    "colab": {
     "base_uri": "https://localhost:8080/"
    },
    "id": "QdyTGnHyqXZ7",
    "outputId": "a4b81340-d54e-4422-8b4d-7a64f62d8d0f"
   },
   "outputs": [],
   "source": [
    "!pip install rasterio\n",
    "!pip install matplotlib\n",
    "!pip install plotly"
   ]
  },
  {
   "cell_type": "markdown",
   "id": "1f027869-fb15-435a-9a09-e3e02e3a3c64",
   "metadata": {},
   "source": [
    "# Loading Extensions\n",
    "*autoreload:* The following extension automatically reloads the modules before executing the line of code typed"
   ]
  },
  {
   "cell_type": "code",
   "execution_count": null,
   "id": "0ca10ae7-b446-453d-93c1-87b6c9a4aaf4",
   "metadata": {
    "id": "0ca10ae7-b446-453d-93c1-87b6c9a4aaf4"
   },
   "outputs": [],
   "source": [
    "%load_ext autoreload\n",
    "%autoreload 2"
   ]
  },
  {
   "cell_type": "markdown",
   "id": "a96ad146-e091-4ddc-af66-df073994be23",
   "metadata": {},
   "source": [
    "# Input Validations"
   ]
  },
  {
   "cell_type": "code",
   "execution_count": null,
   "id": "20122fd1-4c5f-4b70-99bf-61da9007c189",
   "metadata": {},
   "outputs": [],
   "source": [
    "# Validations\n",
    "from datetime import datetime\n",
    "\n",
    "def viz_type_validate(input_val):\n",
    "    try:\n",
    "      test = int(input_val)\n",
    "      if(not(0 < test < 6)):\n",
    "          print(\"Re-Enter correct selection.\")\n",
    "    except:\n",
    "      print(\"Re-Enter correct selection.\")\n",
    "\n",
    "def input_seasonal_validate(input_val):\n",
    "    try:\n",
    "      test = int(input_val)\n",
    "      if(not(0 < test < 5)):\n",
    "          print(\"Re-Enter correct selection.\")\n",
    "    except:\n",
    "      print(\"Re-Enter correct selection.\")\n",
    "\n",
    "def input_monthly_validate(input_val):\n",
    "    try:\n",
    "      test = int(input_val)\n",
    "      if(not(0 < test < 13)):\n",
    "          print(\"Re-Enter correct selection.\")\n",
    "    except:\n",
    "      print(\"Re-Enter correct selection.\")\n",
    "\n",
    "def input_diurnal_validate(input_val):\n",
    "    try:\n",
    "      test = int(input_val)\n",
    "      if(not(0 <= test < 24)):\n",
    "          print(\"Re-Enter correct selection.\")\n",
    "    except:\n",
    "      print(\"Re-Enter correct selection.\")\n",
    "\n",
    "def input_daily_validate(input_val):\n",
    "    # 2013-01-01 to \n",
    "    upper_limit = datetime.fromisoformat(\"2013-12-31\")\n",
    "    lower_limit = datetime.fromisoformat(\"2013-01-01\")\n",
    "    try:\n",
    "      test = datetime.fromisoformat(input_val)\n",
    "      if(not(lower_limit <= test <= upper_limit)):\n",
    "          print(\"Re-Enter correct selection.\")\n",
    "    except:\n",
    "      print(\"Re-Enter correct selection.\")\n"
   ]
  },
  {
   "cell_type": "markdown",
   "id": "7ae4ee47-24c2-46be-8ec9-c1c5efe12447",
   "metadata": {},
   "source": [
    "# Taking Inputs"
   ]
  },
  {
   "cell_type": "markdown",
   "id": "356ae5eb-c67f-4600-a9c7-e203b20686a7",
   "metadata": {},
   "source": [
    "### Input for the visualization type \n",
    "(global input)"
   ]
  },
  {
   "cell_type": "code",
   "execution_count": null,
   "id": "1c0cad77-3a64-43c1-b906-4729dc259a5c",
   "metadata": {},
   "outputs": [],
   "source": [
    "viz_type_num_global = input(\"Enter one of the following visualization type: (Hint: 1 - 5) \\n1.full \\n2.seasonal \\n3.monthly \\n4.diurnal \\n5.daily\\n ==>\")\n",
    "viz_type_validate(viz_type_num_global)"
   ]
  },
  {
   "cell_type": "markdown",
   "id": "b6d7fd01-9205-437c-bf2b-ea474e12d283",
   "metadata": {},
   "source": [
    "### Additional Input for the visualization type selected \n",
    "(global input)"
   ]
  },
  {
   "cell_type": "code",
   "execution_count": null,
   "id": "734460f2-1f25-480e-869e-3acda27210f3",
   "metadata": {},
   "outputs": [],
   "source": [
    "def handle_input_full():\n",
    "    # do not need an input\n",
    "    return False\n",
    "    \n",
    "def handle_input_seasonal():\n",
    "    u_input = input(\"Enter the Season \\n1. spring \\n2. summer \\n3. autumn \\n4. winter \\n(Hint: 1 - 4)\\n==>\")\n",
    "    input_seasonal_validate(u_input)\n",
    "    num_to_season_map = {\n",
    "        1: \"spring\", \n",
    "        2: \"summer\", \n",
    "        3: \"autumn\", \n",
    "        4: \"winter\"\n",
    "    }\n",
    "    u_input = num_to_season_map[int(u_input)]\n",
    "    return u_input\n",
    "\n",
    "def handle_input_monthly():\n",
    "    u_input = input(\"Enter the Month (Hint: 1 - 12)\\n==>\")\n",
    "    input_monthly_validate(u_input)\n",
    "    return u_input\n",
    "\n",
    "def handle_input_diurnal():\n",
    "    u_input = input(\"Enter the Durinals (Hint: 0 - 23)\\n==>\")\n",
    "    input_diurnal_validate(u_input)\n",
    "    return u_input\n",
    "\n",
    "def handle_input_daily():\n",
    "    u_input = input(\"Enter the a date yyyy-mm-dd format (Hint: from 2013-01-01 to 2013-12-31 only)\\n==>\")\n",
    "    input_daily_validate(u_input)\n",
    "    return u_input\n",
    "\n",
    "input_switches = {\n",
    "    \"full\" : handle_input_full,\n",
    "    \"seasonal\" : handle_input_seasonal,\n",
    "    \"monthly\" : handle_input_monthly,\n",
    "    \"diurnal\" : handle_input_diurnal,\n",
    "    \"daily\" : handle_input_daily\n",
    "}\n",
    "\n",
    "def get_viz_type(number):\n",
    "    num_to_viz_map = {\n",
    "        1: \"full\", \n",
    "        2: \"seasonal\", \n",
    "        3: \"monthly\", \n",
    "        4: \"diurnal\", \n",
    "        5: \"daily\"\n",
    "    }\n",
    "    return num_to_viz_map[int(number)]\n",
    "\n",
    "viz_type_global = get_viz_type(viz_type_num_global)\n",
    "type_data_ip_global = input_switches[viz_type_global]()"
   ]
  },
  {
   "cell_type": "markdown",
   "id": "f788f95b-3946-4f8f-8d15-49bfac31c628",
   "metadata": {
    "id": "f788f95b-3946-4f8f-8d15-49bfac31c628"
   },
   "source": [
    "# Visualization of raw GEOTIFF using rasterio"
   ]
  },
  {
   "cell_type": "markdown",
   "id": "c31a673c-2487-46e3-a3c3-6635b0361f15",
   "metadata": {},
   "source": [
    "### Importing dependencies"
   ]
  },
  {
   "cell_type": "code",
   "execution_count": null,
   "id": "7d037e89-718c-4dfc-ad9c-5c7073252397",
   "metadata": {},
   "outputs": [],
   "source": [
    "import rasterio\n",
    "from rasterio.plot import show\n",
    "from matplotlib import pyplot"
   ]
  },
  {
   "cell_type": "code",
   "execution_count": null,
   "id": "bbf17638-a554-4996-aa22-21a1159f9729",
   "metadata": {},
   "outputs": [],
   "source": [
    "def visuzalize_GEOTIFF(layer_url):\n",
    "    dataset = rasterio.open(layer_url)\n",
    "    pyplot.figure(figsize=(50, 25))\n",
    "    show(dataset)\n",
    "\n",
    "def formulate_url_geotiff(type_c, date_c):\n",
    "    baseurl = \"https://ghrc-cog.s3.us-west-2.amazonaws.com/TRMM-LIS\"\n",
    "\n",
    "    type_codes = {\n",
    "        \"full\": \"VHRFC\",\n",
    "        \"seasonal\": \"VHRSC\",\n",
    "        \"monthly\" : \"VHRMC\",\n",
    "        \"diurnal\" : \"VHRDC\",\n",
    "        \"daily\" : \"VHRAC\"\n",
    "    }\n",
    "    \n",
    "    type_data_types = {\n",
    "        \"full\" : \"Full\",\n",
    "        \"seasonal\" : \"Season\",\n",
    "        \"monthly\" : \"Month\",\n",
    "        \"diurnal\" : \"Time\",\n",
    "        \"daily\" : \"Time\"\n",
    "    }\n",
    "\n",
    "    # The URL to fetch geotif image according to the input types\n",
    "    return f'{baseurl}/{type_codes[type_c]}_LIS_FRD_cogs/{type_codes[type_c]}_LIS_FRD_{type_data_types[type_c]}_{date_c}.0_co.tif'\n",
    "    \n",
    "# what handlers do is:\n",
    "    # looks for the global date\n",
    "    # manage the date\n",
    "    # Formulate the url\n",
    "    # use url for visuzalization\n",
    "\n",
    "def handle_full_geotiff():\n",
    "    viz_date = \"201301\"\n",
    "    viz_type = \"full\"\n",
    "    # only single file, so no need to formulate url\n",
    "    viz_url = \"https://ghrc-cog.s3.us-west-2.amazonaws.com/TRMM-LIS/VHRFC_LIS_FRD_co.tif\"\n",
    "    visuzalize_GEOTIFF(viz_url)\n",
    "    print(\"Geotiff url: \" + viz_url)\n",
    "\n",
    "def handle_seasonal_geotiff():\n",
    "    u_input = type_data_ip_global\n",
    "    season_date_map = { \n",
    "        \"spring\": \"1\",\n",
    "        \"summer\": \"2\",\n",
    "        \"autumn\": \"3\",\n",
    "        \"winter\": \"4\"\n",
    "    }\n",
    "    viz_date = season_date_map[u_input]\n",
    "    viz_type = \"seasonal\"\n",
    "    viz_url = formulate_url_geotiff(viz_type, viz_date)\n",
    "    visuzalize_GEOTIFF(viz_url)\n",
    "    print(\"Geotiff url: \" + viz_url)\n",
    "\n",
    "def handle_monthly_geotiff():\n",
    "    u_input = type_data_ip_global\n",
    "    viz_date = int(u_input)\n",
    "    viz_type = \"monthly\"\n",
    "    viz_url = formulate_url_geotiff(viz_type, viz_date)\n",
    "    visuzalize_GEOTIFF(viz_url)\n",
    "    print(\"Geotiff url: \" + viz_url)  \n",
    "\n",
    "\n",
    "def handle_diurnal_geotiff():\n",
    "    u_input = type_data_ip_global\n",
    "    viz_date = int(u_input)\n",
    "    viz_type = \"diurnal\"\n",
    "    viz_url = formulate_url_geotiff(viz_type, viz_date)\n",
    "    visuzalize_GEOTIFF(viz_url)\n",
    "    print(\"Geotiff url: \" + viz_url)\n",
    "    \n",
    "def handle_daily_geotiff():\n",
    "    u_input = type_data_ip_global\n",
    "    viz_date = datetime.fromisoformat(u_input).timetuple().tm_yday  # returns 1 for January 1st\n",
    "    viz_type = \"daily\"\n",
    "    viz_url = formulate_url_geotiff(viz_type, viz_date)\n",
    "    visuzalize_GEOTIFF(viz_url)\n",
    "    print(\"Geotiff url: \" + viz_url)\n",
    "\n",
    "viz_handle_switches_geotiff = {\n",
    "    \"full\" : handle_full_geotiff,\n",
    "    \"seasonal\" : handle_seasonal_geotiff,\n",
    "    \"monthly\" : handle_monthly_geotiff,\n",
    "    \"diurnal\" : handle_diurnal_geotiff,\n",
    "    \"daily\" : handle_daily_geotiff\n",
    "}\n",
    "\n",
    "url_new = viz_handle_switches_geotiff[viz_type_global]()"
   ]
  },
  {
   "cell_type": "markdown",
   "id": "5d9b0b6f-662b-4a59-932b-76c1ac9a8c48",
   "metadata": {
    "id": "5d9b0b6f-662b-4a59-932b-76c1ac9a8c48"
   },
   "source": [
    "# Visualization of COG overlayed over mapbox"
   ]
  },
  {
   "cell_type": "markdown",
   "id": "bbca41db-ef98-4553-bb94-f40b41a1ecf2",
   "metadata": {},
   "source": [
    "### Importing dependencies"
   ]
  },
  {
   "cell_type": "code",
   "execution_count": null,
   "id": "f3fe6b1d-2773-4778-b5d3-2d3f403a415a",
   "metadata": {
    "id": "f3fe6b1d-2773-4778-b5d3-2d3f403a415a"
   },
   "outputs": [],
   "source": [
    "import plotly.io as pio\n",
    "import plotly.express as px\n",
    "import pandas as pd"
   ]
  },
  {
   "cell_type": "markdown",
   "id": "27f87acd-75db-4420-a311-4d2cbf7ceb2c",
   "metadata": {},
   "source": [
    "### Set default *(plotly)* renderer\n",
    "according to the env the notebook is running.\n",
    "*Needed to visualize the Mapbox*"
   ]
  },
  {
   "cell_type": "code",
   "execution_count": null,
   "id": "8b22e0c9-19ac-4308-810c-8cbc1fc898c7",
   "metadata": {},
   "outputs": [],
   "source": [
    "pio.renderers.default = 'colab'\n",
    "# pio.renderers.default = 'jupyterlab'"
   ]
  },
  {
   "cell_type": "markdown",
   "id": "1e4fa02c-444f-461e-8d9a-010faa141050",
   "metadata": {},
   "source": [
    "### Visualization handlers and its helpers\n",
    "\n",
    "works based off the global inputs"
   ]
  },
  {
   "cell_type": "code",
   "execution_count": null,
   "id": "ddcafbc3-d7e5-4972-9682-d227b03f15c8",
   "metadata": {
    "colab": {
     "base_uri": "https://localhost:8080/",
     "height": 559
    },
    "id": "ddcafbc3-d7e5-4972-9682-d227b03f15c8",
    "outputId": "759da6f1-b7f7-4b63-cbb8-1fd1e154a908"
   },
   "outputs": [],
   "source": [
    "def visuzalize_COG(layer_url):\n",
    "    # seed value, for mapbox to load in colab\n",
    "    df = pd.DataFrame([[1001, 5.3],[1001, 5.3]])\n",
    "    df.columns = [\"flips\", \"unemp\"]\n",
    "    fig = px.choropleth_mapbox(\n",
    "                                df, \n",
    "                                color='unemp',\n",
    "                                color_continuous_scale=\"Viridis\",\n",
    "                                range_color=(0, 12),\n",
    "                                mapbox_style=\"carto-positron\",\n",
    "                                zoom=4, center = {\"lat\": 33.543682, \"lon\": -86.779633},\n",
    "                                opacity=0.5,\n",
    "                              )\n",
    "\n",
    "    fig.update_layout(\n",
    "        mapbox_layers=[\n",
    "            {\n",
    "                \"sourcetype\": \"raster\",\n",
    "                \"source\": [layer_url]\n",
    "            }\n",
    "          ])\n",
    "    fig.update_layout(margin={\"r\":0,\"t\":0,\"l\":0,\"b\":0})\n",
    "    # print(fig.layout.mapbox.layers)\n",
    "    fig.update_layout(mapbox_style=\"stamen-terrain\")\n",
    "    fig.layout.mapbox.zoom = 1\n",
    "    fig.show()\n",
    "\n",
    "#apply switch cases:\n",
    "\n",
    "    \n",
    "def formulate_url(type_c, date_c):\n",
    "    cog_base_url = \"https://wug8w3fg42.execute-api.us-west-2.amazonaws.com/development/singleband\"\n",
    "    \n",
    "    type_date_url_end_mapping = {\n",
    "        \"full\": \"LIS/{z}/{x}/{y}.png?colormap=terrain&stretch_range=[0.325,23.426]\",\n",
    "        \"seasonal\": \"LIS/{z}/{x}/{y}.png?colormap=terrain&stretch_range=[0.00010455249866936356,0.06766455620527267]\",\n",
    "        \"monthly\" : \"LIS/{z}/{x}/{y}.png?colormap=terrain&stretch_range=[0.00010455249866936356,0.06766455620527267]\",\n",
    "        \"diurnal\" : \"LIS/{z}/{x}/{y}.png?colormap=terrain&stretch_range=[0,0.002]\",\n",
    "        \"daily\" : \"LIS/{z}/{x}/{y}.png?colormap=terrain&stretch_range=[0.00010455249866936356,0.06766455620527267]\"\n",
    "    }\n",
    "\n",
    "    type_codes = {\n",
    "        \"full\": \"VHRFC\",\n",
    "        \"seasonal\": \"VHRSC\",\n",
    "        \"monthly\" : \"VHRMC\",\n",
    "        \"diurnal\" : \"VHRDC\",\n",
    "        \"daily\" : \"VHRAC\"\n",
    "    }\n",
    "    \n",
    "    cog_url_build = f\"{type_codes[type_c]}/{date_c}\"\n",
    "\n",
    "    return f\"{cog_base_url}/{cog_url_build}/{type_date_url_end_mapping[type_c]}\"\n",
    "\n",
    "# what handlers do is:\n",
    "    # get the global date\n",
    "    # manage the date\n",
    "    # Formulate the url\n",
    "    # use url for visuzalization\n",
    "\n",
    "def handle_full():\n",
    "    viz_date = \"201301\"\n",
    "    viz_type = \"full\"\n",
    "    viz_url = formulate_url(viz_type, viz_date)\n",
    "    visuzalize_COG(viz_url)\n",
    "\n",
    "def handle_seasonal():\n",
    "    u_input = type_data_ip_global\n",
    "    season_date_map = { \n",
    "        \"spring\": \"2013_03_01\",\n",
    "        \"summer\": \"2013_07_01\",\n",
    "        \"autumn\": \"2013_10_01\",\n",
    "        \"winter\": \"2013_12_01\"\n",
    "    }\n",
    "    viz_date = season_date_map[u_input]\n",
    "    viz_type = \"seasonal\"\n",
    "    viz_url = formulate_url(viz_type, viz_date)\n",
    "    visuzalize_COG(viz_url)\n",
    "\n",
    "def handle_monthly():\n",
    "    u_input = type_data_ip_global\n",
    "    if (len(u_input) == 1): u_input = \"0\" + u_input\n",
    "    viz_date = f\"2013{u_input}\"\n",
    "    viz_type = \"monthly\"\n",
    "    viz_url = formulate_url(viz_type, viz_date)\n",
    "    visuzalize_COG(viz_url)\n",
    "\n",
    "def handle_diurnal():\n",
    "    u_input = type_data_ip_global\n",
    "    if (len(u_input) == 1): u_input = \"0\" + u_input\n",
    "    season_date_map = {\n",
    "        \"00\": \"2013_01_01\" , \"01\": \"2013_01_15\" , \"02\": \"2013_02_01\" , \"03\": \"2013_02_15\" , \"04\": \"2013_03_01\" , \"05\": \"2013_03_15\" ,\n",
    "        \"06\": \"2013_04_01\" , \"07\": \"2013_04_15\" , \"08\": \"2013_05_01\" , \"09\": \"2013_05_15\" , \"10\": \"2013_06_01\" , \"11\": \"2013_06_15\" ,\n",
    "        \"12\": \"2013_07_01\" , \"13\": \"2013_07_15\" , \"14\": \"2013_08_01\" , \"15\": \"2013_08_15\" , \"16\": \"2013_09_01\" , \"17\": \"2013_09_15\" ,\n",
    "        \"18\": \"2013_10_01\" , \"19\": \"2013_10_15\" , \"20\": \"2013_11_01\" , \"21\": \"2013_11_15\" , \"22\": \"2013_12_01\" , \"23\": \"2013_12_15\"\n",
    "    }\n",
    "    viz_date = season_date_map[u_input]\n",
    "    viz_type = \"diurnal\"\n",
    "    viz_url = formulate_url(viz_type, viz_date)\n",
    "    visuzalize_COG(viz_url)\n",
    "\n",
    "def handle_daily():\n",
    "    u_input = type_data_ip_global\n",
    "    viz_date = u_input.replace('-', '_')\n",
    "    viz_type = \"daily\"\n",
    "    viz_url = formulate_url(viz_type, viz_date)\n",
    "    visuzalize_COG(viz_url)\n",
    "\n",
    "viz_handle_switches_cog = {\n",
    "    \"full\" : handle_full,\n",
    "    \"seasonal\" : handle_seasonal,\n",
    "    \"monthly\" : handle_monthly,\n",
    "    \"diurnal\" : handle_diurnal,\n",
    "    \"daily\" : handle_daily\n",
    "}\n",
    "\n",
    "viz_handle_switches_cog[viz_type_global]()"
   ]
  },
  {
   "cell_type": "markdown",
   "id": "086be3ab-3346-4247-ad8f-54b792c319d9",
   "metadata": {
    "id": "sH7YaR3IDEwN"
   },
   "source": [
    "If the visualization is not showing, use appropriate `pio.renderers.default`, according to the platform that the notebook is running. (Hint. for `Jupyterlab`, `pio.renderers.default = 'jupyterlab'`, for `Google colab`, `pio.renderers.default = 'colab'`)"
   ]
  }
 ],
 "metadata": {
  "colab": {
   "collapsed_sections": [],
   "provenance": []
  },
  "kernelspec": {
   "display_name": "Python (data_science)",
   "language": "python",
   "name": "data_science_env"
  },
  "language_info": {
   "codemirror_mode": {
    "name": "ipython",
    "version": 3
   },
   "file_extension": ".py",
   "mimetype": "text/x-python",
   "name": "python",
   "nbconvert_exporter": "python",
   "pygments_lexer": "ipython3",
   "version": "3.10.4"
  }
 },
 "nbformat": 4,
 "nbformat_minor": 5
}
